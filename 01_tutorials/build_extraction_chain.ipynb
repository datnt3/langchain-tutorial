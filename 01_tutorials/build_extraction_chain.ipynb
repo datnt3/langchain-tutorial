{
 "cells": [
  {
   "cell_type": "markdown",
   "id": "43d01526",
   "metadata": {},
   "source": [
    "## The Schema"
   ]
  },
  {
   "cell_type": "code",
   "execution_count": 1,
   "id": "0f7ff5ff",
   "metadata": {},
   "outputs": [],
   "source": [
    "from typing import Optional\n",
    "\n",
    "from pydantic import BaseModel, Field\n",
    "\n",
    "class Person(BaseModel):\n",
    "  \"\"\"Information about a person.\"\"\"\n",
    "  name: Optional[str] = Field(\n",
    "    default=None, \n",
    "    description=\"The name of the person\"\n",
    "  )\n",
    "  hair_color: Optional[str] = Field(\n",
    "    default=None,\n",
    "    description=\"The color of the person's hair if known\"\n",
    "  )\n",
    "  height_in_meters: Optional[str] = Field(\n",
    "    default=None, description=\"Height measured in meters\"\n",
    "  )"
   ]
  },
  {
   "cell_type": "markdown",
   "id": "5e42fac6",
   "metadata": {},
   "source": [
    "## The Extractor"
   ]
  },
  {
   "cell_type": "code",
   "execution_count": 2,
   "id": "2e44c2a2",
   "metadata": {},
   "outputs": [],
   "source": [
    "from langchain_core.prompts import ChatPromptTemplate, MessagesPlaceholder\n",
    "\n",
    "prompt_template = ChatPromptTemplate.from_messages(\n",
    "  [\n",
    "    (\"system\",\n",
    "     \"You are an expert extraction algorithm. \"\n",
    "     \"Only extract relevant information from the text. \"\n",
    "     \"If you do not know the value of an attribute asked to extract, \"\n",
    "     \"return null for the attribute's value.\"),\n",
    "    (\"human\",\n",
    "     \"{text}\")\n",
    "  ]\n",
    ")"
   ]
  },
  {
   "cell_type": "code",
   "execution_count": 4,
   "id": "8ef05c5d",
   "metadata": {},
   "outputs": [],
   "source": [
    "from langchain.chat_models import init_chat_model\n",
    "\n",
    "llm = init_chat_model(\"gemini-2.5-flash\", model_provider=\"google_genai\")"
   ]
  },
  {
   "cell_type": "code",
   "execution_count": 5,
   "id": "708c5291",
   "metadata": {},
   "outputs": [],
   "source": [
    "structured_llm = llm.with_structured_output(Person)"
   ]
  },
  {
   "cell_type": "code",
   "execution_count": 6,
   "id": "7f422424",
   "metadata": {},
   "outputs": [
    {
     "data": {
      "text/plain": [
       "Person(name='Dat', hair_color='black', height_in_meters='1.83')"
      ]
     },
     "execution_count": 6,
     "metadata": {},
     "output_type": "execute_result"
    }
   ],
   "source": [
    "text = \"Dat is 6 ft tall and has black hair\"\n",
    "prompt = prompt_template.invoke({\"text\": text})\n",
    "structured_llm.invoke(prompt)"
   ]
  },
  {
   "cell_type": "code",
   "execution_count": 7,
   "id": "a29658b6",
   "metadata": {},
   "outputs": [],
   "source": [
    "from typing import Optional, List\n",
    "from pydantic import BaseModel, Field\n",
    "\n",
    "class Person(BaseModel):\n",
    "  \"\"\"Information about a person.\"\"\"\n",
    "  name: Optional[str] = Field(\n",
    "    default=None,\n",
    "    description=\"The name of a person\"\n",
    "  )\n",
    "  hair_color: Optional[str] = Field(\n",
    "    default=None,\n",
    "    description=\"The color of the person's hair if known\"\n",
    "  )\n",
    "  height_in_meters: Optional[str] = Field(\n",
    "    default=None, description=\"Height measured in meters\"\n",
    "  )\n",
    "  \n",
    "class Data(BaseModel):\n",
    "  \"\"\"Extracted data about people.\"\"\"\n",
    "  people: List[Person]"
   ]
  },
  {
   "cell_type": "code",
   "execution_count": 8,
   "id": "177f0e12",
   "metadata": {},
   "outputs": [
    {
     "data": {
      "text/plain": [
       "Data(people=[Person(name='Jeff', hair_color='black', height_in_meters='1.83'), Person(name='Anna', hair_color='black', height_in_meters=None)])"
      ]
     },
     "execution_count": 8,
     "metadata": {},
     "output_type": "execute_result"
    }
   ],
   "source": [
    "structured_llm = llm.with_structured_output(schema=Data)\n",
    "text = \"My name is Jeff, my hair is black and i am 6 feet tall. Anna has the same color hair as me.\"\n",
    "prompt = prompt_template.invoke({\"text\": text})\n",
    "structured_llm.invoke(prompt)"
   ]
  },
  {
   "cell_type": "code",
   "execution_count": 9,
   "id": "a2f664a1",
   "metadata": {},
   "outputs": [
    {
     "name": "stdout",
     "output_type": "stream",
     "text": [
      "7\n"
     ]
    }
   ],
   "source": [
    "messages = [\n",
    "    {\"role\": \"user\", \"content\": \"2 🦜 2\"},\n",
    "    {\"role\": \"assistant\", \"content\": \"4\"},\n",
    "    {\"role\": \"user\", \"content\": \"2 🦜 3\"},\n",
    "    {\"role\": \"assistant\", \"content\": \"5\"},\n",
    "    {\"role\": \"user\", \"content\": \"3 🦜 4\"},\n",
    "]\n",
    "\n",
    "response = llm.invoke(messages)\n",
    "print(response.content)"
   ]
  },
  {
   "cell_type": "code",
   "execution_count": 10,
   "id": "0c9b155b",
   "metadata": {},
   "outputs": [
    {
     "name": "stderr",
     "output_type": "stream",
     "text": [
      "/var/folders/y6/f01_tq9n4sv37v7r4hpwxq840000gn/T/ipykernel_42504/734817787.py:22: LangChainBetaWarning: The function `tool_example_to_messages` is in beta. It is actively being worked on, so the API may change.\n",
      "  messages.extend(tool_example_to_messages(txt, [tool_call], ai_response=ai_response))\n"
     ]
    }
   ],
   "source": [
    "from langchain_core.utils.function_calling import tool_example_to_messages\n",
    "\n",
    "examples = [\n",
    "  (\n",
    "    \"The ocean is vast and blue. It's more than 20,000 feet deep.\",\n",
    "    Data(people=[])\n",
    "  ),\n",
    "  (\n",
    "    \"Fiona traveled far from France to Spain.\",\n",
    "    Data(people=[Person(name=\"Fiona\", height_in_meters=None, hair_color=None)]),\n",
    "  )\n",
    "]\n",
    "\n",
    "messages = []\n",
    "\n",
    "for txt, tool_call in examples:\n",
    "  if tool_call.people:\n",
    "    ai_response = \"Detected people.\"\n",
    "  else:\n",
    "    ai_response = \"Detected no people.\"\n",
    "    \n",
    "  messages.extend(tool_example_to_messages(txt, [tool_call], ai_response=ai_response))"
   ]
  },
  {
   "cell_type": "code",
   "execution_count": 13,
   "id": "ac3c78de",
   "metadata": {},
   "outputs": [
    {
     "name": "stdout",
     "output_type": "stream",
     "text": [
      "================================\u001b[1m Human Message \u001b[0m=================================\n",
      "\n",
      "The ocean is vast and blue. It's more than 20,000 feet deep.\n",
      "==================================\u001b[1m Ai Message \u001b[0m==================================\n",
      "Tool Calls:\n",
      "  Data (55a944be-475e-449d-b69d-0ab075daef5d)\n",
      " Call ID: 55a944be-475e-449d-b69d-0ab075daef5d\n",
      "  Args:\n",
      "    people: []\n",
      "=================================\u001b[1m Tool Message \u001b[0m=================================\n",
      "\n",
      "You have correctly called this tool.\n",
      "==================================\u001b[1m Ai Message \u001b[0m==================================\n",
      "\n",
      "Detected no people.\n",
      "================================\u001b[1m Human Message \u001b[0m=================================\n",
      "\n",
      "Fiona traveled far from France to Spain.\n",
      "==================================\u001b[1m Ai Message \u001b[0m==================================\n",
      "Tool Calls:\n",
      "  Data (05648183-0ddb-4ab4-92e5-adc0a59956a9)\n",
      " Call ID: 05648183-0ddb-4ab4-92e5-adc0a59956a9\n",
      "  Args:\n",
      "    people: [{'name': 'Fiona', 'hair_color': None, 'height_in_meters': None}]\n",
      "=================================\u001b[1m Tool Message \u001b[0m=================================\n",
      "\n",
      "You have correctly called this tool.\n",
      "==================================\u001b[1m Ai Message \u001b[0m==================================\n",
      "\n",
      "Detected people.\n"
     ]
    }
   ],
   "source": [
    "for mess in messages:\n",
    "  mess.pretty_print()"
   ]
  },
  {
   "cell_type": "code",
   "execution_count": 15,
   "id": "2a32d015",
   "metadata": {},
   "outputs": [
    {
     "data": {
      "text/plain": [
       "Data(people=[Person(name='earth', hair_color=None, height_in_meters=None)])"
      ]
     },
     "execution_count": 15,
     "metadata": {},
     "output_type": "execute_result"
    }
   ],
   "source": [
    "message_no_extraction = {\n",
    "  \"role\": \"user\",\n",
    "  \"content\": \"The solar system is large, but earth has only 1 moon.\"\n",
    "}\n",
    "\n",
    "structured_llm = llm.with_structured_output(schema=Data)\n",
    "structured_llm.invoke([message_no_extraction])"
   ]
  },
  {
   "cell_type": "code",
   "execution_count": 16,
   "id": "d069d59f",
   "metadata": {},
   "outputs": [
    {
     "data": {
      "text/plain": [
       "Data(people=[])"
      ]
     },
     "execution_count": 16,
     "metadata": {},
     "output_type": "execute_result"
    }
   ],
   "source": [
    "structured_llm.invoke(messages + [message_no_extraction])"
   ]
  },
  {
   "cell_type": "code",
   "execution_count": null,
   "id": "2aaa37a3",
   "metadata": {},
   "outputs": [],
   "source": []
  }
 ],
 "metadata": {
  "kernelspec": {
   "display_name": "langchain",
   "language": "python",
   "name": "python3"
  },
  "language_info": {
   "codemirror_mode": {
    "name": "ipython",
    "version": 3
   },
   "file_extension": ".py",
   "mimetype": "text/x-python",
   "name": "python",
   "nbconvert_exporter": "python",
   "pygments_lexer": "ipython3",
   "version": "3.10.18"
  }
 },
 "nbformat": 4,
 "nbformat_minor": 5
}
